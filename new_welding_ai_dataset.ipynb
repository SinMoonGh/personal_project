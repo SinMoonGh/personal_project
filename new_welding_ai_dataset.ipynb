{
 "cells": [
  {
   "cell_type": "code",
   "execution_count": 2,
   "metadata": {},
   "outputs": [],
   "source": [
    "from torch.utils.data import DataLoader\n",
    "from torch.utils.data import TensorDataset\n",
    "import torch\n",
    "import numpy as np\n",
    "import pandas as pd\n",
    "import sklearn.metrics as metric\n",
    "from sklearn import preprocessing\n",
    "import torch.nn as nn\n",
    "import matplotlib.pyplot as plt"
   ]
  },
  {
   "cell_type": "code",
   "execution_count": 3,
   "metadata": {},
   "outputs": [
    {
     "data": {
      "text/html": [
       "<div>\n",
       "<style scoped>\n",
       "    .dataframe tbody tr th:only-of-type {\n",
       "        vertical-align: middle;\n",
       "    }\n",
       "\n",
       "    .dataframe tbody tr th {\n",
       "        vertical-align: top;\n",
       "    }\n",
       "\n",
       "    .dataframe thead th {\n",
       "        text-align: right;\n",
       "    }\n",
       "</style>\n",
       "<table border=\"1\" class=\"dataframe\">\n",
       "  <thead>\n",
       "    <tr style=\"text-align: right;\">\n",
       "      <th></th>\n",
       "      <th>Pressure (PSI)</th>\n",
       "      <th>Welding Time (ms)</th>\n",
       "      <th>Angle (Deg)</th>\n",
       "      <th>Force (N)</th>\n",
       "      <th>Current (A)</th>\n",
       "      <th>Thickness A (mm)</th>\n",
       "      <th>Thickness B (mm)</th>\n",
       "      <th>Material</th>\n",
       "      <th>PullTest (N)</th>\n",
       "      <th>NuggetDiameter (mm)</th>\n",
       "      <th>Category</th>\n",
       "      <th>Comments</th>\n",
       "    </tr>\n",
       "    <tr>\n",
       "      <th>Sample ID</th>\n",
       "      <th></th>\n",
       "      <th></th>\n",
       "      <th></th>\n",
       "      <th></th>\n",
       "      <th></th>\n",
       "      <th></th>\n",
       "      <th></th>\n",
       "      <th></th>\n",
       "      <th></th>\n",
       "      <th></th>\n",
       "      <th></th>\n",
       "      <th></th>\n",
       "    </tr>\n",
       "  </thead>\n",
       "  <tbody>\n",
       "    <tr>\n",
       "      <th>1</th>\n",
       "      <td>35</td>\n",
       "      <td>200</td>\n",
       "      <td>0</td>\n",
       "      <td>0.00</td>\n",
       "      <td>1315.41</td>\n",
       "      <td>0.922</td>\n",
       "      <td>0.920</td>\n",
       "      <td>SS</td>\n",
       "      <td>2127.7</td>\n",
       "      <td>2.63</td>\n",
       "      <td>Bad</td>\n",
       "      <td>DOE</td>\n",
       "    </tr>\n",
       "    <tr>\n",
       "      <th>1</th>\n",
       "      <td>35</td>\n",
       "      <td>200</td>\n",
       "      <td>0</td>\n",
       "      <td>3.41</td>\n",
       "      <td>1337.45</td>\n",
       "      <td>0.922</td>\n",
       "      <td>0.920</td>\n",
       "      <td>SS</td>\n",
       "      <td>2127.7</td>\n",
       "      <td>2.63</td>\n",
       "      <td>Bad</td>\n",
       "      <td>DOE</td>\n",
       "    </tr>\n",
       "    <tr>\n",
       "      <th>1</th>\n",
       "      <td>35</td>\n",
       "      <td>200</td>\n",
       "      <td>0</td>\n",
       "      <td>6.82</td>\n",
       "      <td>1081.47</td>\n",
       "      <td>0.922</td>\n",
       "      <td>0.920</td>\n",
       "      <td>SS</td>\n",
       "      <td>2127.7</td>\n",
       "      <td>2.63</td>\n",
       "      <td>Bad</td>\n",
       "      <td>DOE</td>\n",
       "    </tr>\n",
       "    <tr>\n",
       "      <th>2</th>\n",
       "      <td>35</td>\n",
       "      <td>1500</td>\n",
       "      <td>0</td>\n",
       "      <td>0.00</td>\n",
       "      <td>1819.13</td>\n",
       "      <td>0.920</td>\n",
       "      <td>0.925</td>\n",
       "      <td>SS</td>\n",
       "      <td>5346.4</td>\n",
       "      <td>3.34</td>\n",
       "      <td>Good</td>\n",
       "      <td>DOE</td>\n",
       "    </tr>\n",
       "    <tr>\n",
       "      <th>2</th>\n",
       "      <td>35</td>\n",
       "      <td>1500</td>\n",
       "      <td>0</td>\n",
       "      <td>3.41</td>\n",
       "      <td>2016.44</td>\n",
       "      <td>0.920</td>\n",
       "      <td>0.925</td>\n",
       "      <td>SS</td>\n",
       "      <td>5346.4</td>\n",
       "      <td>3.34</td>\n",
       "      <td>Good</td>\n",
       "      <td>DOE</td>\n",
       "    </tr>\n",
       "  </tbody>\n",
       "</table>\n",
       "</div>"
      ],
      "text/plain": [
       "           Pressure (PSI)  Welding Time (ms)  Angle (Deg)  Force (N)  \\\n",
       "Sample ID                                                              \n",
       "1                      35                200            0       0.00   \n",
       "1                      35                200            0       3.41   \n",
       "1                      35                200            0       6.82   \n",
       "2                      35               1500            0       0.00   \n",
       "2                      35               1500            0       3.41   \n",
       "\n",
       "           Current (A)  Thickness A (mm)  Thickness B (mm) Material  \\\n",
       "Sample ID                                                             \n",
       "1              1315.41             0.922             0.920       SS   \n",
       "1              1337.45             0.922             0.920       SS   \n",
       "1              1081.47             0.922             0.920       SS   \n",
       "2              1819.13             0.920             0.925       SS   \n",
       "2              2016.44             0.920             0.925       SS   \n",
       "\n",
       "           PullTest (N)  NuggetDiameter (mm) Category Comments  \n",
       "Sample ID                                                       \n",
       "1                2127.7                 2.63      Bad      DOE  \n",
       "1                2127.7                 2.63      Bad      DOE  \n",
       "1                2127.7                 2.63      Bad      DOE  \n",
       "2                5346.4                 3.34     Good      DOE  \n",
       "2                5346.4                 3.34     Good      DOE  "
      ]
     },
     "execution_count": 3,
     "metadata": {},
     "output_type": "execute_result"
    }
   ],
   "source": [
    "welding_data = pd.read_csv('Data_RSW.csv', index_col='Sample ID')\n",
    "welding_data.head()"
   ]
  },
  {
   "cell_type": "code",
   "execution_count": 5,
   "metadata": {},
   "outputs": [
    {
     "name": "stdout",
     "output_type": "stream",
     "text": [
      "Pressure (PSI)\n",
      "60    2797\n",
      "80    1093\n",
      "95     149\n",
      "35     147\n",
      "Name: count, dtype: int64\n",
      "Welding Time (ms)\n",
      "1000    1048\n",
      "800      906\n",
      "1200     751\n",
      "600      685\n",
      "400      500\n",
      "1500     246\n",
      "200       50\n",
      "Name: count, dtype: int64\n",
      "Angle (Deg)\n",
      "15    2097\n",
      "0     2089\n",
      "Name: count, dtype: int64\n",
      "Force (N)\n",
      "0.00      16\n",
      "95.00     15\n",
      "115.93    13\n",
      "98.26     12\n",
      "95.64     11\n",
      "          ..\n",
      "113.92     1\n",
      "113.66     1\n",
      "113.41     1\n",
      "113.13     1\n",
      "97.90      1\n",
      "Name: count, Length: 2000, dtype: int64\n",
      "Current (A)\n",
      "3206.55    8\n",
      "3074.57    6\n",
      "3490.11    5\n",
      "3562.78    5\n",
      "3088.52    5\n",
      "          ..\n",
      "2150.18    1\n",
      "3258.70    1\n",
      "1734.92    1\n",
      "2573.97    1\n",
      "3914.27    1\n",
      "Name: count, Length: 2765, dtype: int64\n",
      "Thickness A (mm)\n",
      "0.625    244\n",
      "0.632    229\n",
      "0.631    209\n",
      "0.623    166\n",
      "0.638    166\n",
      "        ... \n",
      "0.928      3\n",
      "0.940      3\n",
      "0.927      3\n",
      "0.922      3\n",
      "0.946      2\n",
      "Name: count, Length: 69, dtype: int64\n",
      "Thickness B (mm)\n",
      "0.631    217\n",
      "0.623    208\n",
      "0.635    206\n",
      "0.634    191\n",
      "0.622    184\n",
      "        ... \n",
      "0.922      3\n",
      "0.915      3\n",
      "0.935      3\n",
      "0.945      3\n",
      "0.920      3\n",
      "Name: count, Length: 71, dtype: int64\n",
      "Material\n",
      "SS    4186\n",
      "Name: count, dtype: int64\n",
      "PullTest (N)\n",
      "2730.3    31\n",
      "3049.1    28\n",
      "2816.5    27\n",
      "2878.7    25\n",
      "3111.9    25\n",
      "          ..\n",
      "2127.7     3\n",
      "2667.3     2\n",
      "3145.4     2\n",
      "3168.2     1\n",
      "3148.4     1\n",
      "Name: count, Length: 407, dtype: int64\n",
      "NuggetDiameter (mm)\n",
      "3.58    110\n",
      "3.65     82\n",
      "3.66     78\n",
      "3.30     78\n",
      "3.57     77\n",
      "       ... \n",
      "2.64      3\n",
      "2.57      3\n",
      "2.76      3\n",
      "2.50      3\n",
      "2.81      2\n",
      "Name: count, Length: 156, dtype: int64\n",
      "Category\n",
      "Good       3814\n",
      "Explode     284\n",
      "Bad          88\n",
      "Name: count, dtype: int64\n",
      "Comments\n",
      "DOE                    296\n",
      "Communication error      2\n",
      "Name: count, dtype: int64\n"
     ]
    }
   ],
   "source": [
    "for feature in welding_data:\n",
    "    print(welding_data[feature].value_counts())"
   ]
  },
  {
   "cell_type": "code",
   "execution_count": 10,
   "metadata": {},
   "outputs": [
    {
     "data": {
      "text/html": [
       "<div>\n",
       "<style scoped>\n",
       "    .dataframe tbody tr th:only-of-type {\n",
       "        vertical-align: middle;\n",
       "    }\n",
       "\n",
       "    .dataframe tbody tr th {\n",
       "        vertical-align: top;\n",
       "    }\n",
       "\n",
       "    .dataframe thead th {\n",
       "        text-align: right;\n",
       "    }\n",
       "</style>\n",
       "<table border=\"1\" class=\"dataframe\">\n",
       "  <thead>\n",
       "    <tr style=\"text-align: right;\">\n",
       "      <th></th>\n",
       "      <th>Pressure (PSI)</th>\n",
       "      <th>Welding Time (ms)</th>\n",
       "      <th>Angle (Deg)</th>\n",
       "      <th>Force (N)</th>\n",
       "      <th>Current (A)</th>\n",
       "      <th>Thickness A (mm)</th>\n",
       "      <th>Thickness B (mm)</th>\n",
       "      <th>PullTest (N)</th>\n",
       "      <th>NuggetDiameter (mm)</th>\n",
       "    </tr>\n",
       "  </thead>\n",
       "  <tbody>\n",
       "    <tr>\n",
       "      <th>count</th>\n",
       "      <td>4186.000000</td>\n",
       "      <td>4186.000000</td>\n",
       "      <td>4186.000000</td>\n",
       "      <td>4186.000000</td>\n",
       "      <td>4186.000000</td>\n",
       "      <td>4186.000000</td>\n",
       "      <td>4186.000000</td>\n",
       "      <td>4186.00000</td>\n",
       "      <td>4186.000000</td>\n",
       "    </tr>\n",
       "    <tr>\n",
       "      <th>mean</th>\n",
       "      <td>65.590062</td>\n",
       "      <td>875.298614</td>\n",
       "      <td>7.514333</td>\n",
       "      <td>91.217286</td>\n",
       "      <td>3019.032711</td>\n",
       "      <td>2.289362</td>\n",
       "      <td>3.501072</td>\n",
       "      <td>3032.96204</td>\n",
       "      <td>3.577721</td>\n",
       "    </tr>\n",
       "    <tr>\n",
       "      <th>std</th>\n",
       "      <td>11.780475</td>\n",
       "      <td>303.025712</td>\n",
       "      <td>7.500882</td>\n",
       "      <td>19.300206</td>\n",
       "      <td>844.557376</td>\n",
       "      <td>31.916085</td>\n",
       "      <td>42.217941</td>\n",
       "      <td>521.44465</td>\n",
       "      <td>0.393631</td>\n",
       "    </tr>\n",
       "    <tr>\n",
       "      <th>min</th>\n",
       "      <td>35.000000</td>\n",
       "      <td>200.000000</td>\n",
       "      <td>0.000000</td>\n",
       "      <td>-99.000000</td>\n",
       "      <td>-99.000000</td>\n",
       "      <td>0.610000</td>\n",
       "      <td>0.608000</td>\n",
       "      <td>1410.30000</td>\n",
       "      <td>1.900000</td>\n",
       "    </tr>\n",
       "    <tr>\n",
       "      <th>25%</th>\n",
       "      <td>60.000000</td>\n",
       "      <td>600.000000</td>\n",
       "      <td>0.000000</td>\n",
       "      <td>78.890000</td>\n",
       "      <td>2663.300000</td>\n",
       "      <td>0.623000</td>\n",
       "      <td>0.623000</td>\n",
       "      <td>2783.60000</td>\n",
       "      <td>3.350000</td>\n",
       "    </tr>\n",
       "    <tr>\n",
       "      <th>50%</th>\n",
       "      <td>60.000000</td>\n",
       "      <td>800.000000</td>\n",
       "      <td>15.000000</td>\n",
       "      <td>95.010000</td>\n",
       "      <td>3155.460000</td>\n",
       "      <td>0.631000</td>\n",
       "      <td>0.630000</td>\n",
       "      <td>2994.10000</td>\n",
       "      <td>3.570000</td>\n",
       "    </tr>\n",
       "    <tr>\n",
       "      <th>75%</th>\n",
       "      <td>80.000000</td>\n",
       "      <td>1000.000000</td>\n",
       "      <td>15.000000</td>\n",
       "      <td>103.677500</td>\n",
       "      <td>3571.340000</td>\n",
       "      <td>0.638000</td>\n",
       "      <td>0.635000</td>\n",
       "      <td>3141.80000</td>\n",
       "      <td>3.757500</td>\n",
       "    </tr>\n",
       "    <tr>\n",
       "      <th>max</th>\n",
       "      <td>95.000000</td>\n",
       "      <td>1500.000000</td>\n",
       "      <td>15.000000</td>\n",
       "      <td>133.530000</td>\n",
       "      <td>5009.430000</td>\n",
       "      <td>624.000000</td>\n",
       "      <td>632.000000</td>\n",
       "      <td>5806.50000</td>\n",
       "      <td>4.720000</td>\n",
       "    </tr>\n",
       "  </tbody>\n",
       "</table>\n",
       "</div>"
      ],
      "text/plain": [
       "       Pressure (PSI)  Welding Time (ms)  Angle (Deg)    Force (N)  \\\n",
       "count     4186.000000        4186.000000  4186.000000  4186.000000   \n",
       "mean        65.590062         875.298614     7.514333    91.217286   \n",
       "std         11.780475         303.025712     7.500882    19.300206   \n",
       "min         35.000000         200.000000     0.000000   -99.000000   \n",
       "25%         60.000000         600.000000     0.000000    78.890000   \n",
       "50%         60.000000         800.000000    15.000000    95.010000   \n",
       "75%         80.000000        1000.000000    15.000000   103.677500   \n",
       "max         95.000000        1500.000000    15.000000   133.530000   \n",
       "\n",
       "       Current (A)  Thickness A (mm)  Thickness B (mm)  PullTest (N)  \\\n",
       "count  4186.000000       4186.000000       4186.000000    4186.00000   \n",
       "mean   3019.032711          2.289362          3.501072    3032.96204   \n",
       "std     844.557376         31.916085         42.217941     521.44465   \n",
       "min     -99.000000          0.610000          0.608000    1410.30000   \n",
       "25%    2663.300000          0.623000          0.623000    2783.60000   \n",
       "50%    3155.460000          0.631000          0.630000    2994.10000   \n",
       "75%    3571.340000          0.638000          0.635000    3141.80000   \n",
       "max    5009.430000        624.000000        632.000000    5806.50000   \n",
       "\n",
       "       NuggetDiameter (mm)  \n",
       "count          4186.000000  \n",
       "mean              3.577721  \n",
       "std               0.393631  \n",
       "min               1.900000  \n",
       "25%               3.350000  \n",
       "50%               3.570000  \n",
       "75%               3.757500  \n",
       "max               4.720000  "
      ]
     },
     "execution_count": 10,
     "metadata": {},
     "output_type": "execute_result"
    }
   ],
   "source": [
    "welding_data[['Pressure (PSI)','Welding Time (ms)','Angle (Deg)','Force (N)','Current (A)','Thickness A (mm)','Thickness B (mm)','PullTest (N)','NuggetDiameter (mm)']].describe()"
   ]
  },
  {
   "cell_type": "code",
   "execution_count": 11,
   "metadata": {},
   "outputs": [
    {
     "data": {
      "text/html": [
       "<div>\n",
       "<style scoped>\n",
       "    .dataframe tbody tr th:only-of-type {\n",
       "        vertical-align: middle;\n",
       "    }\n",
       "\n",
       "    .dataframe tbody tr th {\n",
       "        vertical-align: top;\n",
       "    }\n",
       "\n",
       "    .dataframe thead th {\n",
       "        text-align: right;\n",
       "    }\n",
       "</style>\n",
       "<table border=\"1\" class=\"dataframe\">\n",
       "  <thead>\n",
       "    <tr style=\"text-align: right;\">\n",
       "      <th></th>\n",
       "      <th>Pressure (PSI)</th>\n",
       "      <th>Welding Time (ms)</th>\n",
       "      <th>Angle (Deg)</th>\n",
       "      <th>Force (N)</th>\n",
       "      <th>Current (A)</th>\n",
       "      <th>Thickness A (mm)</th>\n",
       "      <th>Thickness B (mm)</th>\n",
       "      <th>PullTest (N)</th>\n",
       "      <th>NuggetDiameter (mm)</th>\n",
       "    </tr>\n",
       "  </thead>\n",
       "  <tbody>\n",
       "    <tr>\n",
       "      <th>Pressure (PSI)</th>\n",
       "      <td>1.000000</td>\n",
       "      <td>-0.079988</td>\n",
       "      <td>-0.444454</td>\n",
       "      <td>0.526777</td>\n",
       "      <td>-0.121048</td>\n",
       "      <td>0.062835</td>\n",
       "      <td>0.082659</td>\n",
       "      <td>-0.144020</td>\n",
       "      <td>-0.166265</td>\n",
       "    </tr>\n",
       "    <tr>\n",
       "      <th>Welding Time (ms)</th>\n",
       "      <td>-0.079988</td>\n",
       "      <td>1.000000</td>\n",
       "      <td>-0.009779</td>\n",
       "      <td>-0.126018</td>\n",
       "      <td>-0.096344</td>\n",
       "      <td>0.022027</td>\n",
       "      <td>0.009871</td>\n",
       "      <td>0.568349</td>\n",
       "      <td>0.433629</td>\n",
       "    </tr>\n",
       "    <tr>\n",
       "      <th>Angle (Deg)</th>\n",
       "      <td>-0.444454</td>\n",
       "      <td>-0.009779</td>\n",
       "      <td>1.000000</td>\n",
       "      <td>-0.348471</td>\n",
       "      <td>0.210617</td>\n",
       "      <td>-0.051503</td>\n",
       "      <td>-0.067701</td>\n",
       "      <td>0.187748</td>\n",
       "      <td>0.089211</td>\n",
       "    </tr>\n",
       "    <tr>\n",
       "      <th>Force (N)</th>\n",
       "      <td>0.526777</td>\n",
       "      <td>-0.126018</td>\n",
       "      <td>-0.348471</td>\n",
       "      <td>1.000000</td>\n",
       "      <td>0.132544</td>\n",
       "      <td>0.039265</td>\n",
       "      <td>0.059970</td>\n",
       "      <td>-0.355472</td>\n",
       "      <td>-0.152311</td>\n",
       "    </tr>\n",
       "    <tr>\n",
       "      <th>Current (A)</th>\n",
       "      <td>-0.121048</td>\n",
       "      <td>-0.096344</td>\n",
       "      <td>0.210617</td>\n",
       "      <td>0.132544</td>\n",
       "      <td>1.000000</td>\n",
       "      <td>-0.029310</td>\n",
       "      <td>-0.007450</td>\n",
       "      <td>-0.319442</td>\n",
       "      <td>0.011392</td>\n",
       "    </tr>\n",
       "    <tr>\n",
       "      <th>Thickness A (mm)</th>\n",
       "      <td>0.062835</td>\n",
       "      <td>0.022027</td>\n",
       "      <td>-0.051503</td>\n",
       "      <td>0.039265</td>\n",
       "      <td>-0.029310</td>\n",
       "      <td>1.000000</td>\n",
       "      <td>-0.003526</td>\n",
       "      <td>-0.033187</td>\n",
       "      <td>-0.029469</td>\n",
       "    </tr>\n",
       "    <tr>\n",
       "      <th>Thickness B (mm)</th>\n",
       "      <td>0.082659</td>\n",
       "      <td>0.009871</td>\n",
       "      <td>-0.067701</td>\n",
       "      <td>0.059970</td>\n",
       "      <td>-0.007450</td>\n",
       "      <td>-0.003526</td>\n",
       "      <td>1.000000</td>\n",
       "      <td>-0.015153</td>\n",
       "      <td>-0.060979</td>\n",
       "    </tr>\n",
       "    <tr>\n",
       "      <th>PullTest (N)</th>\n",
       "      <td>-0.144020</td>\n",
       "      <td>0.568349</td>\n",
       "      <td>0.187748</td>\n",
       "      <td>-0.355472</td>\n",
       "      <td>-0.319442</td>\n",
       "      <td>-0.033187</td>\n",
       "      <td>-0.015153</td>\n",
       "      <td>1.000000</td>\n",
       "      <td>0.491057</td>\n",
       "    </tr>\n",
       "    <tr>\n",
       "      <th>NuggetDiameter (mm)</th>\n",
       "      <td>-0.166265</td>\n",
       "      <td>0.433629</td>\n",
       "      <td>0.089211</td>\n",
       "      <td>-0.152311</td>\n",
       "      <td>0.011392</td>\n",
       "      <td>-0.029469</td>\n",
       "      <td>-0.060979</td>\n",
       "      <td>0.491057</td>\n",
       "      <td>1.000000</td>\n",
       "    </tr>\n",
       "  </tbody>\n",
       "</table>\n",
       "</div>"
      ],
      "text/plain": [
       "                     Pressure (PSI)  Welding Time (ms)  Angle (Deg)  \\\n",
       "Pressure (PSI)             1.000000          -0.079988    -0.444454   \n",
       "Welding Time (ms)         -0.079988           1.000000    -0.009779   \n",
       "Angle (Deg)               -0.444454          -0.009779     1.000000   \n",
       "Force (N)                  0.526777          -0.126018    -0.348471   \n",
       "Current (A)               -0.121048          -0.096344     0.210617   \n",
       "Thickness A (mm)           0.062835           0.022027    -0.051503   \n",
       "Thickness B (mm)           0.082659           0.009871    -0.067701   \n",
       "PullTest (N)              -0.144020           0.568349     0.187748   \n",
       "NuggetDiameter (mm)       -0.166265           0.433629     0.089211   \n",
       "\n",
       "                     Force (N)  Current (A)  Thickness A (mm)  \\\n",
       "Pressure (PSI)        0.526777    -0.121048          0.062835   \n",
       "Welding Time (ms)    -0.126018    -0.096344          0.022027   \n",
       "Angle (Deg)          -0.348471     0.210617         -0.051503   \n",
       "Force (N)             1.000000     0.132544          0.039265   \n",
       "Current (A)           0.132544     1.000000         -0.029310   \n",
       "Thickness A (mm)      0.039265    -0.029310          1.000000   \n",
       "Thickness B (mm)      0.059970    -0.007450         -0.003526   \n",
       "PullTest (N)         -0.355472    -0.319442         -0.033187   \n",
       "NuggetDiameter (mm)  -0.152311     0.011392         -0.029469   \n",
       "\n",
       "                     Thickness B (mm)  PullTest (N)  NuggetDiameter (mm)  \n",
       "Pressure (PSI)               0.082659     -0.144020            -0.166265  \n",
       "Welding Time (ms)            0.009871      0.568349             0.433629  \n",
       "Angle (Deg)                 -0.067701      0.187748             0.089211  \n",
       "Force (N)                    0.059970     -0.355472            -0.152311  \n",
       "Current (A)                 -0.007450     -0.319442             0.011392  \n",
       "Thickness A (mm)            -0.003526     -0.033187            -0.029469  \n",
       "Thickness B (mm)             1.000000     -0.015153            -0.060979  \n",
       "PullTest (N)                -0.015153      1.000000             0.491057  \n",
       "NuggetDiameter (mm)         -0.060979      0.491057             1.000000  "
      ]
     },
     "execution_count": 11,
     "metadata": {},
     "output_type": "execute_result"
    }
   ],
   "source": [
    "welding_data[['Pressure (PSI)','Welding Time (ms)','Angle (Deg)','Force (N)','Current (A)','Thickness A (mm)','Thickness B (mm)','PullTest (N)','NuggetDiameter (mm)']].corr(method='pearson')"
   ]
  },
  {
   "cell_type": "code",
   "execution_count": 32,
   "metadata": {},
   "outputs": [
    {
     "data": {
      "image/png": "[encoded data removed]",
      "text/plain": [
       "<Figure size 640x480 with 1 Axes>"
      ]
     },
     "metadata": {},
     "output_type": "display_data"
    }
   ],
   "source": [
    "b = [15, 15, 25, 13, 17, 15, 35, 15, 15]\n",
    "%matplotlib inline\n",
    "\n",
    "Pressure = plt.hist(welding_data['Pressure (PSI)'], bins = b[0], facecolor = (144 /255,171 /255,221 /255), range=(0, 1000))"
   ]
  },
  {
   "cell_type": "code",
   "execution_count": 31,
   "metadata": {},
   "outputs": [
    {
     "data": {
      "image/png": "[encoded data removed]",
      "text/plain": [
       "<Figure size 640x480 with 1 Axes>"
      ]
     },
     "metadata": {},
     "output_type": "display_data"
    }
   ],
   "source": [
    "Welding_Time = plt.hist(welding_data['Welding Time (ms)'], bins = b[1], facecolor = (144 /255,171 /255,221 /255), range=(0, 7000))"
   ]
  },
  {
   "cell_type": "code",
   "execution_count": 36,
   "metadata": {},
   "outputs": [
    {
     "data": {
      "image/png": "[encoded data removed]",
      "text/plain": [
       "<Figure size 640x480 with 1 Axes>"
      ]
     },
     "metadata": {},
     "output_type": "display_data"
    }
   ],
   "source": [
    "Force = plt.hist(welding_data['Force (N)'], bins = b[2], facecolor = (144 /255,171 /255,221 /255), range=(0, 1000))"
   ]
  },
  {
   "cell_type": "code",
   "execution_count": 41,
   "metadata": {},
   "outputs": [
    {
     "data": {
      "image/png": "[encoded data removed]",
      "text/plain": [
       "<Figure size 640x480 with 1 Axes>"
      ]
     },
     "metadata": {},
     "output_type": "display_data"
    }
   ],
   "source": [
    "Current = plt.hist(welding_data['Current (A)'], bins = b[3], facecolor = (144 /255,171 /255,221 /255), range=(0, 10000))"
   ]
  },
  {
   "cell_type": "code",
   "execution_count": 43,
   "metadata": {},
   "outputs": [
    {
     "data": {
      "image/png": "[encoded data removed]",
      "text/plain": [
       "<Figure size 640x480 with 1 Axes>"
      ]
     },
     "metadata": {},
     "output_type": "display_data"
    }
   ],
   "source": [
    "Thickness_A = plt.hist(welding_data['Thickness A (mm)'], bins = b[3], facecolor = (144 /255,171 /255,221 /255), range=(0, 5000))"
   ]
  },
  {
   "cell_type": "code",
   "execution_count": 49,
   "metadata": {},
   "outputs": [
    {
     "data": {
      "image/png": "[encoded data removed]",
      "text/plain": [
       "<Figure size 640x480 with 1 Axes>"
      ]
     },
     "metadata": {},
     "output_type": "display_data"
    }
   ],
   "source": [
    "Thickness_B = plt.hist(welding_data['Thickness B (mm)'], bins = b[3], facecolor = (144 /255,171 /255,221 /255), range=(0, 1000))"
   ]
  },
  {
   "cell_type": "code",
   "execution_count": 46,
   "metadata": {},
   "outputs": [
    {
     "data": {
      "image/png": "[encoded data removed]",
      "text/plain": [
       "<Figure size 640x480 with 1 Axes>"
      ]
     },
     "metadata": {},
     "output_type": "display_data"
    }
   ],
   "source": [
    "PullTest = plt.hist(welding_data['PullTest (N)'], bins = b[3], facecolor = (144 /255,171 /255,221 /255), range=(0, 10000))"
   ]
  },
  {
   "cell_type": "code",
   "execution_count": 48,
   "metadata": {},
   "outputs": [
    {
     "data": {
      "image/png": "[encoded data removed]",
      "text/plain": [
       "<Figure size 640x480 with 1 Axes>"
      ]
     },
     "metadata": {},
     "output_type": "display_data"
    }
   ],
   "source": [
    "PulNuggetDiameterlTest = plt.hist(welding_data['NuggetDiameter (mm)'], bins = b[3], facecolor = (144 /255,171 /255,221 /255), range=(0, 1000))"
   ]
  },
  {
   "cell_type": "code",
   "execution_count": 14,
   "metadata": {},
   "outputs": [
    {
     "data": {
      "text/html": [
       "<div>\n",
       "<style scoped>\n",
       "    .dataframe tbody tr th:only-of-type {\n",
       "        vertical-align: middle;\n",
       "    }\n",
       "\n",
       "    .dataframe tbody tr th {\n",
       "        vertical-align: top;\n",
       "    }\n",
       "\n",
       "    .dataframe thead th {\n",
       "        text-align: right;\n",
       "    }\n",
       "</style>\n",
       "<table border=\"1\" class=\"dataframe\">\n",
       "  <thead>\n",
       "    <tr style=\"text-align: right;\">\n",
       "      <th></th>\n",
       "      <th>Pressure (PSI)</th>\n",
       "      <th>Welding Time (ms)</th>\n",
       "      <th>Force (N)</th>\n",
       "      <th>Current (A)</th>\n",
       "      <th>Thickness A (mm)</th>\n",
       "      <th>Thickness B (mm)</th>\n",
       "    </tr>\n",
       "    <tr>\n",
       "      <th>Sample ID</th>\n",
       "      <th></th>\n",
       "      <th></th>\n",
       "      <th></th>\n",
       "      <th></th>\n",
       "      <th></th>\n",
       "      <th></th>\n",
       "    </tr>\n",
       "  </thead>\n",
       "  <tbody>\n",
       "    <tr>\n",
       "      <th>1</th>\n",
       "      <td>35</td>\n",
       "      <td>200</td>\n",
       "      <td>0.00</td>\n",
       "      <td>1315.41</td>\n",
       "      <td>0.922</td>\n",
       "      <td>0.920</td>\n",
       "    </tr>\n",
       "    <tr>\n",
       "      <th>1</th>\n",
       "      <td>35</td>\n",
       "      <td>200</td>\n",
       "      <td>3.41</td>\n",
       "      <td>1337.45</td>\n",
       "      <td>0.922</td>\n",
       "      <td>0.920</td>\n",
       "    </tr>\n",
       "    <tr>\n",
       "      <th>1</th>\n",
       "      <td>35</td>\n",
       "      <td>200</td>\n",
       "      <td>6.82</td>\n",
       "      <td>1081.47</td>\n",
       "      <td>0.922</td>\n",
       "      <td>0.920</td>\n",
       "    </tr>\n",
       "    <tr>\n",
       "      <th>2</th>\n",
       "      <td>35</td>\n",
       "      <td>1500</td>\n",
       "      <td>0.00</td>\n",
       "      <td>1819.13</td>\n",
       "      <td>0.920</td>\n",
       "      <td>0.925</td>\n",
       "    </tr>\n",
       "    <tr>\n",
       "      <th>2</th>\n",
       "      <td>35</td>\n",
       "      <td>1500</td>\n",
       "      <td>3.41</td>\n",
       "      <td>2016.44</td>\n",
       "      <td>0.920</td>\n",
       "      <td>0.925</td>\n",
       "    </tr>\n",
       "  </tbody>\n",
       "</table>\n",
       "</div>"
      ],
      "text/plain": [
       "           Pressure (PSI)  Welding Time (ms)  Force (N)  Current (A)  \\\n",
       "Sample ID                                                              \n",
       "1                      35                200       0.00      1315.41   \n",
       "1                      35                200       3.41      1337.45   \n",
       "1                      35                200       6.82      1081.47   \n",
       "2                      35               1500       0.00      1819.13   \n",
       "2                      35               1500       3.41      2016.44   \n",
       "\n",
       "           Thickness A (mm)  Thickness B (mm)  \n",
       "Sample ID                                      \n",
       "1                     0.922             0.920  \n",
       "1                     0.922             0.920  \n",
       "1                     0.922             0.920  \n",
       "2                     0.920             0.925  \n",
       "2                     0.920             0.925  "
      ]
     },
     "execution_count": 14,
     "metadata": {},
     "output_type": "execute_result"
    }
   ],
   "source": [
    "new_welding_data = welding_data[['Pressure (PSI)','Welding Time (ms)','Force (N)','Current (A)','Thickness A (mm)','Thickness B (mm)']]\n",
    "new_welding_data.head()"
   ]
  },
  {
   "cell_type": "code",
   "execution_count": 15,
   "metadata": {},
   "outputs": [
    {
     "data": {
      "text/plain": [
       "array([[0.00000000e+00, 0.00000000e+00, 4.25751516e-01, 2.76877632e-01,\n",
       "        5.00489260e-04, 4.94146267e-04],\n",
       "       [0.00000000e+00, 0.00000000e+00, 4.40416290e-01, 2.81192069e-01,\n",
       "        5.00489260e-04, 4.94146267e-04],\n",
       "       [0.00000000e+00, 0.00000000e+00, 4.55081065e-01, 2.31082740e-01,\n",
       "        5.00489260e-04, 4.94146267e-04],\n",
       "       ...,\n",
       "       [4.16666667e-01, 7.69230769e-01, 8.45654324e-01, 7.16149580e-01,\n",
       "        3.36867771e-05, 2.05894278e-05],\n",
       "       [4.16666667e-01, 7.69230769e-01, 8.46213392e-01, 8.52222699e-01,\n",
       "        3.36867771e-05, 2.05894278e-05],\n",
       "       [4.16666667e-01, 7.69230769e-01, 8.46772459e-01, 7.85617107e-01,\n",
       "        3.36867771e-05, 2.05894278e-05]])"
      ]
     },
     "execution_count": 15,
     "metadata": {},
     "output_type": "execute_result"
    }
   ],
   "source": [
    "scaler = preprocessing.MinMaxScaler()\n",
    "scaler.fit(new_welding_data)\n",
    "scaled_data = scaler.transform(new_welding_data)\n",
    "scaled_data"
   ]
  },
  {
   "cell_type": "code",
   "execution_count": 69,
   "metadata": {},
   "outputs": [],
   "source": [
    "scaled_data_df = pd.DataFrame(scaled_data)\n",
    "scaled_data_df.to_csv('new_scaled_data.csv')"
   ]
  },
  {
   "cell_type": "code",
   "execution_count": 31,
   "metadata": {},
   "outputs": [],
   "source": [
    "# AutoEncoder 클래스 구현\n",
    "class AutoEncoder(nn.Module):\n",
    "    def __init__(self, input_size, hidden_size, output_size):\n",
    "        super(AutoEncoder, self).__init__()\n",
    "        # initialize\n",
    "        self.input_size = input_size\n",
    "        self.hidden_size = hidden_size\n",
    "        self.output_size = output_size\n",
    "        # 오토인코더 구현\n",
    "        self.AutoEncoder = nn.Sequential(\n",
    "            #인코더 \n",
    "            nn.Linear(input_size, hidden_size[0]),\n",
    "            nn.RReLU(),\n",
    "            nn.Linear(hidden_size[0], output_size),\n",
    "            nn.RReLU(),\n",
    "            # 디코더\n",
    "            nn.Linear(output_size, hidden_size[0]),\n",
    "            nn.RReLU(),\n",
    "            nn.Linear(hidden_size[0], input_size)\n",
    "        )\n",
    "\n",
    "    def forward(self, inputs):\n",
    "        output = self.AutoEncoder(inputs)\n",
    "\n",
    "        return output"
   ]
  },
  {
   "cell_type": "code",
   "execution_count": 32,
   "metadata": {},
   "outputs": [
    {
     "name": "stdout",
     "output_type": "stream",
     "text": [
      "4185\n"
     ]
    }
   ],
   "source": [
    "train_data = torch.Tensor(scaled_data[:4185]) # 처음부터 4185번까지 데이터를 훈련세트로 지정\n",
    "print(len(train_data))"
   ]
  },
  {
   "cell_type": "code",
   "execution_count": 26,
   "metadata": {},
   "outputs": [],
   "source": [
    "# 훈련 하이퍼파라미터\n",
    "epoch = 100\n",
    "batch_size = 64\n",
    "lr = 0.01\n",
    "# 모델 하이퍼파라미터\n",
    "input_size = len(train_data[0])\n",
    "hidden_size = [5]\n",
    "output_size = 2\n",
    "# 손실 함수로 제곱근 오차 사용\n",
    "criterion = nn.MSELoss()\n",
    "# 매개 변수 조정 방식으로 Adam 사용\n",
    "optimizer = torch.optim.Adam\n",
    "# 오토인코더 정의\n",
    "AutoEncoder = AutoEncoder(input_size, hidden_size, output_size)"
   ]
  },
  {
   "cell_type": "code",
   "execution_count": 27,
   "metadata": {},
   "outputs": [],
   "source": [
    "# 학습 함수에 대한 정의\n",
    "def train_net(AutoEncoder, data, criterion, epochs, lr_rate = 0.01):\n",
    "    # Optimizer에 대한 정의\n",
    "    optim = optimizer(AutoEncoder.parameters(), lr = lr_rate)\n",
    "    #배치 학습을 시키기 위한 데이터 변환\n",
    "    data_iter = DataLoader(data, batch_size = batch_size, shuffle=True)\n",
    "    #에포크 학습\n",
    "    for epoch in range(1, epochs + 1):\n",
    "        running_loss = 0.0\n",
    "        for x in data_iter:\n",
    "            # 매개변수 0으로 초기화\n",
    "            optim.zero_grad()\n",
    "            output = AutoEncoder(x)\n",
    "            # 입력값과 출력값 간의 차이인 손실값\n",
    "            loss = criterion(x, output)\n",
    "            # 손실 값을 기준으로 매개변수 조정\n",
    "            loss.backward()\n",
    "            optim.step()\n",
    "            running_loss += loss.item()\n",
    "\n",
    "        # 각 에포크마다 손실 값 표기\n",
    "        print(\"epoch: {}, loss: {:.2f}\".format(epoch, running_loss))\n",
    "    return AutoEncoder"
   ]
  },
  {
   "cell_type": "code",
   "execution_count": 28,
   "metadata": {},
   "outputs": [
    {
     "name": "stdout",
     "output_type": "stream",
     "text": [
      "epoch: 1, loss: 9.28\n",
      "epoch: 2, loss: 1.33\n",
      "epoch: 3, loss: 1.21\n",
      "epoch: 4, loss: 1.15\n",
      "epoch: 5, loss: 1.12\n",
      "epoch: 6, loss: 1.10\n",
      "epoch: 7, loss: 1.08\n",
      "epoch: 8, loss: 1.05\n",
      "epoch: 9, loss: 0.98\n",
      "epoch: 10, loss: 0.93\n",
      "epoch: 11, loss: 0.90\n",
      "epoch: 12, loss: 0.88\n",
      "epoch: 13, loss: 0.87\n",
      "epoch: 14, loss: 0.83\n",
      "epoch: 15, loss: 0.81\n",
      "epoch: 16, loss: 0.78\n",
      "epoch: 17, loss: 0.71\n",
      "epoch: 18, loss: 0.56\n",
      "epoch: 19, loss: 0.54\n",
      "epoch: 20, loss: 0.52\n",
      "epoch: 21, loss: 0.50\n",
      "epoch: 22, loss: 0.49\n",
      "epoch: 23, loss: 0.48\n",
      "epoch: 24, loss: 0.46\n",
      "epoch: 25, loss: 0.45\n",
      "epoch: 26, loss: 0.44\n",
      "epoch: 27, loss: 0.44\n",
      "epoch: 28, loss: 0.43\n",
      "epoch: 29, loss: 0.42\n",
      "epoch: 30, loss: 0.41\n",
      "epoch: 31, loss: 0.41\n",
      "epoch: 32, loss: 0.40\n",
      "epoch: 33, loss: 0.40\n",
      "epoch: 34, loss: 0.39\n",
      "epoch: 35, loss: 0.38\n",
      "epoch: 36, loss: 0.37\n",
      "epoch: 37, loss: 0.36\n",
      "epoch: 38, loss: 0.36\n",
      "epoch: 39, loss: 0.35\n",
      "epoch: 40, loss: 0.35\n",
      "epoch: 41, loss: 0.35\n",
      "epoch: 42, loss: 0.35\n",
      "epoch: 43, loss: 0.34\n",
      "epoch: 44, loss: 0.35\n",
      "epoch: 45, loss: 0.35\n",
      "epoch: 46, loss: 0.35\n",
      "epoch: 47, loss: 0.35\n",
      "epoch: 48, loss: 0.35\n",
      "epoch: 49, loss: 0.34\n",
      "epoch: 50, loss: 0.35\n"
     ]
    }
   ],
   "source": [
    "# 학습 함수를 이용한 오토인코더 학습\n",
    "AutoEncoder = train_net(AutoEncoder, train_data, criterion, epoch, lr)"
   ]
  },
  {
   "cell_type": "code",
   "execution_count": 29,
   "metadata": {},
   "outputs": [
    {
     "name": "stdout",
     "output_type": "stream",
     "text": [
      "Threshold :  0.1270618216937407\n"
     ]
    }
   ],
   "source": [
    "# 훈련세트의 손실 값 이용한 임계값 정의\n",
    "train_loss_chart = []\n",
    "for data in train_data:\n",
    "    output = AutoEncoder(data)\n",
    "    loss = criterion(output, data)\n",
    "    train_loss_chart.append(loss.item())\n",
    "\n",
    "threshold = np.mean(train_loss_chart) + np.std(train_loss_chart)*8\n",
    "print(\"Threshold : \", threshold)"
   ]
  },
  {
   "cell_type": "code",
   "execution_count": 30,
   "metadata": {},
   "outputs": [
    {
     "data": {
      "text/plain": [
       "32"
      ]
     },
     "execution_count": 30,
     "metadata": {},
     "output_type": "execute_result"
    }
   ],
   "source": [
    "# 훈련 세트의 손실값 이용한 임계값 정의\n",
    "train_test_loss_chart = []\n",
    "for data in train_data:\n",
    "    output = AutoEncoder(data)\n",
    "    loss = criterion(output, data)\n",
    "    train_test_loss_chart.append(loss.item())\n",
    "\n",
    "outlier = list(train_test_loss_chart >= threshold)\n",
    "outlier.count(True)"
   ]
  },
  {
   "cell_type": "code",
   "execution_count": 93,
   "metadata": {},
   "outputs": [
    {
     "data": {
      "text/plain": [
       "Category\n",
       "Good       3814\n",
       "Explode     284\n",
       "Bad          88\n",
       "Name: count, dtype: int64"
      ]
     },
     "execution_count": 93,
     "metadata": {},
     "output_type": "execute_result"
    }
   ],
   "source": [
    "data_category = welding_data['Category']\n",
    "data_category.value_counts()"
   ]
  }
 ],
 "metadata": {
  "kernelspec": {
   "display_name": "pyTorch",
   "language": "python",
   "name": "python3"
  },
  "language_info": {
   "codemirror_mode": {
    "name": "ipython",
    "version": 3
   },
   "file_extension": ".py",
   "mimetype": "text/x-python",
   "name": "python",
   "nbconvert_exporter": "python",
   "pygments_lexer": "ipython3",
   "version": "3.10.13"
  }
 },
 "nbformat": 4,
 "nbformat_minor": 2
}
