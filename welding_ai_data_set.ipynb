{
 "cells": [
  {
   "cell_type": "markdown",
   "metadata": {},
   "source": [
    "## 단계별 프로세스\n",
    "\n",
    "1. 데이터 불러오기\n",
    "2. 데이터 종류 및 개수 확인\n",
    "3. 데이터 특성 파악(요약 통계량, 상관관계, histogram)\n",
    "4. 데이터 정제(전처리) (변수제거, 정규화)\n",
    "5. 오토인코더 모델 구축(잡음제거)\n",
    "6. 훈련 데이터/ 테스트 데이터 분할\n",
    "7. 초매개변수, 손실 함수 및 옵티마이저 정의\n",
    "8. 오토인코더 학습 함수 정의 및 학습\n",
    "9. 임계값 정의 후 결과 분석 및 해석\n",
    "10. MinMaxScaler를 통한 데이터 정규화 가이드"
   ]
  },
  {
   "cell_type": "markdown",
   "metadata": {},
   "source": [
    "# 라이브러리/ 데이터 불러오기"
   ]
  },
  {
   "cell_type": "code",
   "execution_count": 2,
   "metadata": {},
   "outputs": [],
   "source": [
    "from torch.utils.data import DataLoader\n",
    "from torch.utils.data import TensorDataset\n",
    "import torch\n",
    "import numpy as np\n",
    "import pandas as pd\n",
    "import sklearn.metrics as metric\n",
    "from sklearn import preprocessing\n",
    "import torch.nn as nn\n",
    "import matplotlib.pyplot as plt"
   ]
  },
  {
   "cell_type": "code",
   "execution_count": 3,
   "metadata": {},
   "outputs": [
    {
     "data": {
      "text/html": [
       "<div>\n",
       "<style scoped>\n",
       "    .dataframe tbody tr th:only-of-type {\n",
       "        vertical-align: middle;\n",
       "    }\n",
       "\n",
       "    .dataframe tbody tr th {\n",
       "        vertical-align: top;\n",
       "    }\n",
       "\n",
       "    .dataframe thead th {\n",
       "        text-align: right;\n",
       "    }\n",
       "</style>\n",
       "<table border=\"1\" class=\"dataframe\">\n",
       "  <thead>\n",
       "    <tr style=\"text-align: right;\">\n",
       "      <th></th>\n",
       "      <th>Machine_Name</th>\n",
       "      <th>Item No</th>\n",
       "      <th>working time</th>\n",
       "      <th>Thickness 1(mm)</th>\n",
       "      <th>Thickness 2(mm)</th>\n",
       "      <th>weld force(bar)</th>\n",
       "      <th>weld current(kA)</th>\n",
       "      <th>weld Voltage(v)</th>\n",
       "      <th>weld time(ms)</th>\n",
       "    </tr>\n",
       "    <tr>\n",
       "      <th>idx</th>\n",
       "      <th></th>\n",
       "      <th></th>\n",
       "      <th></th>\n",
       "      <th></th>\n",
       "      <th></th>\n",
       "      <th></th>\n",
       "      <th></th>\n",
       "      <th></th>\n",
       "      <th></th>\n",
       "    </tr>\n",
       "  </thead>\n",
       "  <tbody>\n",
       "    <tr>\n",
       "      <th>1</th>\n",
       "      <td>Spot-01</td>\n",
       "      <td>65235-25800</td>\n",
       "      <td>2020-03-24</td>\n",
       "      <td>0.7</td>\n",
       "      <td>0.7</td>\n",
       "      <td>2.33</td>\n",
       "      <td>14.57</td>\n",
       "      <td>2.701</td>\n",
       "      <td>72.0</td>\n",
       "    </tr>\n",
       "    <tr>\n",
       "      <th>2</th>\n",
       "      <td>Spot-01</td>\n",
       "      <td>65235-25800</td>\n",
       "      <td>2020-03-24</td>\n",
       "      <td>0.7</td>\n",
       "      <td>0.7</td>\n",
       "      <td>2.36</td>\n",
       "      <td>14.57</td>\n",
       "      <td>2.701</td>\n",
       "      <td>72.0</td>\n",
       "    </tr>\n",
       "    <tr>\n",
       "      <th>3</th>\n",
       "      <td>Spot-01</td>\n",
       "      <td>65235-25800</td>\n",
       "      <td>2020-03-24</td>\n",
       "      <td>0.7</td>\n",
       "      <td>0.7</td>\n",
       "      <td>2.37</td>\n",
       "      <td>14.54</td>\n",
       "      <td>2.703</td>\n",
       "      <td>71.0</td>\n",
       "    </tr>\n",
       "    <tr>\n",
       "      <th>4</th>\n",
       "      <td>Spot-01</td>\n",
       "      <td>65235-25800</td>\n",
       "      <td>2020-03-24</td>\n",
       "      <td>0.7</td>\n",
       "      <td>0.7</td>\n",
       "      <td>2.37</td>\n",
       "      <td>14.54</td>\n",
       "      <td>2.703</td>\n",
       "      <td>72.0</td>\n",
       "    </tr>\n",
       "    <tr>\n",
       "      <th>5</th>\n",
       "      <td>Spot-01</td>\n",
       "      <td>65235-25800</td>\n",
       "      <td>2020-03-24</td>\n",
       "      <td>0.7</td>\n",
       "      <td>0.7</td>\n",
       "      <td>2.36</td>\n",
       "      <td>14.56</td>\n",
       "      <td>2.704</td>\n",
       "      <td>72.0</td>\n",
       "    </tr>\n",
       "  </tbody>\n",
       "</table>\n",
       "</div>"
      ],
      "text/plain": [
       "    Machine_Name      Item No working time  Thickness 1(mm)  Thickness 2(mm)  \\\n",
       "idx                                                                            \n",
       "1        Spot-01  65235-25800   2020-03-24              0.7              0.7   \n",
       "2        Spot-01  65235-25800   2020-03-24              0.7              0.7   \n",
       "3        Spot-01  65235-25800   2020-03-24              0.7              0.7   \n",
       "4        Spot-01  65235-25800   2020-03-24              0.7              0.7   \n",
       "5        Spot-01  65235-25800   2020-03-24              0.7              0.7   \n",
       "\n",
       "     weld force(bar)  weld current(kA)  weld Voltage(v)  weld time(ms)  \n",
       "idx                                                                     \n",
       "1               2.33             14.57            2.701           72.0  \n",
       "2               2.36             14.57            2.701           72.0  \n",
       "3               2.37             14.54            2.703           71.0  \n",
       "4               2.37             14.54            2.703           72.0  \n",
       "5               2.36             14.56            2.704           72.0  "
      ]
     },
     "execution_count": 3,
     "metadata": {},
     "output_type": "execute_result"
    }
   ],
   "source": [
    "\"\"\"pandas를 이용해서 엑셀 파일인 welding_data.xlsx를 불러옵니다.\n",
    "index_col을 사용해서 idx로 인덱스의 열을 설정합니다.\n",
    "임시로 데이터의 앞 부분만 출력했습니다.\"\"\"\n",
    "welding_data = pd.read_excel('./welding_data.xlsx', index_col='idx')\n",
    "welding_data.head()"
   ]
  },
  {
   "cell_type": "markdown",
   "metadata": {},
   "source": [
    "# 데이터 종류 및 개수 확인"
   ]
  },
  {
   "cell_type": "code",
   "execution_count": 13,
   "metadata": {},
   "outputs": [
    {
     "name": "stdout",
     "output_type": "stream",
     "text": [
      "Machine_Name\n",
      "Spot-01    11939\n",
      "Name: count, dtype: int64\n",
      "Item No\n",
      "65235-25800    11939\n",
      "Name: count, dtype: int64\n",
      "working time\n",
      "2020-04-02    2000\n",
      "2020-03-31    1800\n",
      "2020-03-27    1648\n",
      "2020-03-30    1470\n",
      "2020-03-25    1352\n",
      "2020-03-24    1200\n",
      "2020-03-26    1000\n",
      "2020-04-03     800\n",
      "2020-04-07     669\n",
      "Name: count, dtype: int64\n",
      "Thickness 1(mm)\n",
      "0.7    11939\n",
      "Name: count, dtype: int64\n",
      "Thickness 2(mm)\n",
      "0.7    11939\n",
      "Name: count, dtype: int64\n",
      "weld force(bar)\n",
      "2.31    1237\n",
      "2.33    1062\n",
      "2.35    1047\n",
      "2.32    1036\n",
      "2.36    1030\n",
      "        ... \n",
      "3.74       4\n",
      "7.87       4\n",
      "2.23       2\n",
      "2.19       2\n",
      "2.36       2\n",
      "Name: count, Length: 177, dtype: int64\n",
      "weld current(kA)\n",
      "14.73    1284\n",
      "14.74    1276\n",
      "14.75    1002\n",
      "14.72     771\n",
      "14.59     630\n",
      "14.76     612\n",
      "14.71     553\n",
      "14.58     544\n",
      "14.60     431\n",
      "14.57     378\n",
      "14.77     350\n",
      "14.78     318\n",
      "14.70     312\n",
      "14.56     296\n",
      "14.55     278\n",
      "14.61     260\n",
      "14.80     216\n",
      "14.81     204\n",
      "14.83     192\n",
      "14.62     154\n",
      "14.85     144\n",
      "14.67     142\n",
      "14.64     132\n",
      "14.54     130\n",
      "14.93     128\n",
      "14.94     120\n",
      "14.84      96\n",
      "14.82      96\n",
      "14.66      94\n",
      "14.68      94\n",
      "14.95      74\n",
      "15.07      72\n",
      "14.89      72\n",
      "14.79      70\n",
      "14.99      64\n",
      "14.65      62\n",
      "14.53      58\n",
      "14.97      50\n",
      "14.88      48\n",
      "14.91      48\n",
      "14.69      40\n",
      "14.52      22\n",
      "14.63      22\n",
      "Name: count, dtype: int64\n",
      "weld Voltage(v)\n",
      "2.701    1249\n",
      "2.700    1164\n",
      "2.702    1089\n",
      "2.699     952\n",
      "2.703     864\n",
      "         ... \n",
      "2.670       4\n",
      "2.775       4\n",
      "2.685       4\n",
      "2.739       4\n",
      "2.689       2\n",
      "Name: count, Length: 113, dtype: int64\n",
      "weld time(ms)\n",
      "72.00    6750\n",
      "71.00    3735\n",
      "73.00     899\n",
      "70.00     258\n",
      "72.18      99\n",
      "72.24      88\n",
      "72.16      66\n",
      "72.20      44\n",
      "Name: count, dtype: int64\n"
     ]
    }
   ],
   "source": [
    "# 데이터의 특성들이 어떤 값들을 가지고 있으며 몇 개씩 가지고 있는 지 확인\n",
    "for feature in welding_data:\n",
    "    print(welding_data[feature].value_counts())"
   ]
  },
  {
   "cell_type": "markdown",
   "metadata": {},
   "source": [
    "1. 용접 기계 spot-1 11939번 작업을 완료함.\n",
    "2. 작업은 2020년도 4월 2일 날 가장 많이 진행됨."
   ]
  },
  {
   "cell_type": "markdown",
   "metadata": {},
   "source": [
    "# 데이터 특성 파악"
   ]
  },
  {
   "cell_type": "code",
   "execution_count": 50,
   "metadata": {},
   "outputs": [
    {
     "data": {
      "text/html": [
       "<div>\n",
       "<style scoped>\n",
       "    .dataframe tbody tr th:only-of-type {\n",
       "        vertical-align: middle;\n",
       "    }\n",
       "\n",
       "    .dataframe tbody tr th {\n",
       "        vertical-align: top;\n",
       "    }\n",
       "\n",
       "    .dataframe thead th {\n",
       "        text-align: right;\n",
       "    }\n",
       "</style>\n",
       "<table border=\"1\" class=\"dataframe\">\n",
       "  <thead>\n",
       "    <tr style=\"text-align: right;\">\n",
       "      <th></th>\n",
       "      <th>Thickness 1(mm)</th>\n",
       "      <th>Thickness 2(mm)</th>\n",
       "      <th>weld force(bar)</th>\n",
       "      <th>weld current(kA)</th>\n",
       "      <th>weld Voltage(v)</th>\n",
       "      <th>weld time(ms)</th>\n",
       "    </tr>\n",
       "  </thead>\n",
       "  <tbody>\n",
       "    <tr>\n",
       "      <th>count</th>\n",
       "      <td>11939.0</td>\n",
       "      <td>11939.0</td>\n",
       "      <td>11939.000000</td>\n",
       "      <td>11939.000000</td>\n",
       "      <td>11939.000000</td>\n",
       "      <td>11939.000000</td>\n",
       "    </tr>\n",
       "    <tr>\n",
       "      <th>mean</th>\n",
       "      <td>0.7</td>\n",
       "      <td>0.7</td>\n",
       "      <td>2.787925</td>\n",
       "      <td>14.711208</td>\n",
       "      <td>2.704223</td>\n",
       "      <td>71.724123</td>\n",
       "    </tr>\n",
       "    <tr>\n",
       "      <th>std</th>\n",
       "      <td>0.0</td>\n",
       "      <td>0.0</td>\n",
       "      <td>1.455966</td>\n",
       "      <td>0.099000</td>\n",
       "      <td>0.024700</td>\n",
       "      <td>0.632049</td>\n",
       "    </tr>\n",
       "    <tr>\n",
       "      <th>min</th>\n",
       "      <td>0.7</td>\n",
       "      <td>0.7</td>\n",
       "      <td>1.740000</td>\n",
       "      <td>14.520000</td>\n",
       "      <td>2.464000</td>\n",
       "      <td>70.000000</td>\n",
       "    </tr>\n",
       "    <tr>\n",
       "      <th>25%</th>\n",
       "      <td>0.7</td>\n",
       "      <td>0.7</td>\n",
       "      <td>2.310000</td>\n",
       "      <td>14.610000</td>\n",
       "      <td>2.699000</td>\n",
       "      <td>71.000000</td>\n",
       "    </tr>\n",
       "    <tr>\n",
       "      <th>50%</th>\n",
       "      <td>0.7</td>\n",
       "      <td>0.7</td>\n",
       "      <td>2.340000</td>\n",
       "      <td>14.730000</td>\n",
       "      <td>2.702000</td>\n",
       "      <td>72.000000</td>\n",
       "    </tr>\n",
       "    <tr>\n",
       "      <th>75%</th>\n",
       "      <td>0.7</td>\n",
       "      <td>0.7</td>\n",
       "      <td>2.370000</td>\n",
       "      <td>14.750000</td>\n",
       "      <td>2.706000</td>\n",
       "      <td>72.000000</td>\n",
       "    </tr>\n",
       "    <tr>\n",
       "      <th>max</th>\n",
       "      <td>0.7</td>\n",
       "      <td>0.7</td>\n",
       "      <td>10.540000</td>\n",
       "      <td>15.070000</td>\n",
       "      <td>2.861000</td>\n",
       "      <td>73.000000</td>\n",
       "    </tr>\n",
       "  </tbody>\n",
       "</table>\n",
       "</div>"
      ],
      "text/plain": [
       "       Thickness 1(mm)  Thickness 2(mm)  weld force(bar)  weld current(kA)  \\\n",
       "count          11939.0          11939.0     11939.000000      11939.000000   \n",
       "mean               0.7              0.7         2.787925         14.711208   \n",
       "std                0.0              0.0         1.455966          0.099000   \n",
       "min                0.7              0.7         1.740000         14.520000   \n",
       "25%                0.7              0.7         2.310000         14.610000   \n",
       "50%                0.7              0.7         2.340000         14.730000   \n",
       "75%                0.7              0.7         2.370000         14.750000   \n",
       "max                0.7              0.7        10.540000         15.070000   \n",
       "\n",
       "       weld Voltage(v)  weld time(ms)  \n",
       "count     11939.000000   11939.000000  \n",
       "mean          2.704223      71.724123  \n",
       "std           0.024700       0.632049  \n",
       "min           2.464000      70.000000  \n",
       "25%           2.699000      71.000000  \n",
       "50%           2.702000      72.000000  \n",
       "75%           2.706000      72.000000  \n",
       "max           2.861000      73.000000  "
      ]
     },
     "execution_count": 50,
     "metadata": {},
     "output_type": "execute_result"
    }
   ],
   "source": [
    "# 용접머신 spot-1의 데이터 통계량을 확인합니다.\n",
    "welding_data[['Thickness 1(mm)', 'Thickness 2(mm)', 'weld force(bar)', 'weld current(kA)', 'weld Voltage(v)', 'weld time(ms)']].describe()"
   ]
  },
  {
   "cell_type": "markdown",
   "metadata": {},
   "source": [
    "1. count : 작업한 수\n",
    "2. mean : 평균\n",
    "3. std : 표준편차\n",
    "4. min : 최소값\n",
    "5. 25%, 50%, 75% : 0과 1사이의 백분위 수.\n",
    "6. max : 최대값"
   ]
  },
  {
   "cell_type": "markdown",
   "metadata": {},
   "source": [
    "# 용접 제품/ corr 함수를 통한 변수 간 상관 관계 파악 가이드\n",
    "- 데이터 변수 간의 상관 관계를 확인할 수 있다.\n",
    "- 분석에서 사용된 상관 계수는 피어슨 상관 계수로 -1과 1사이의 값을 가집니다. 상관 계수의 절대값이 1에 가까울 수록 변수 간의 선형 관계가 강하다고 볼 수 있으며, 값이 양수일 때는 양적인 선형 관계, 음수일 때는 음적인 선형 관계를 가집니다. 상관 계수의 절댓값이 \n",
    "0.1 ~ 0.3 : 약한 선형 관계,\n",
    "0.3 ~ 0.7 : 뚜렷한 선형 관계,\n",
    "0.7 이상 : 강한 선형 관계."
   ]
  },
  {
   "cell_type": "code",
   "execution_count": 93,
   "metadata": {},
   "outputs": [
    {
     "data": {
      "text/html": [
       "<div>\n",
       "<style scoped>\n",
       "    .dataframe tbody tr th:only-of-type {\n",
       "        vertical-align: middle;\n",
       "    }\n",
       "\n",
       "    .dataframe tbody tr th {\n",
       "        vertical-align: top;\n",
       "    }\n",
       "\n",
       "    .dataframe thead th {\n",
       "        text-align: right;\n",
       "    }\n",
       "</style>\n",
       "<table border=\"1\" class=\"dataframe\">\n",
       "  <thead>\n",
       "    <tr style=\"text-align: right;\">\n",
       "      <th></th>\n",
       "      <th>Thickness 1(mm)</th>\n",
       "      <th>Thickness 2(mm)</th>\n",
       "      <th>weld force(bar)</th>\n",
       "      <th>weld current(kA)</th>\n",
       "      <th>weld Voltage(v)</th>\n",
       "      <th>weld time(ms)</th>\n",
       "    </tr>\n",
       "  </thead>\n",
       "  <tbody>\n",
       "    <tr>\n",
       "      <th>Thickness 1(mm)</th>\n",
       "      <td>NaN</td>\n",
       "      <td>NaN</td>\n",
       "      <td>NaN</td>\n",
       "      <td>NaN</td>\n",
       "      <td>NaN</td>\n",
       "      <td>NaN</td>\n",
       "    </tr>\n",
       "    <tr>\n",
       "      <th>Thickness 2(mm)</th>\n",
       "      <td>NaN</td>\n",
       "      <td>NaN</td>\n",
       "      <td>NaN</td>\n",
       "      <td>NaN</td>\n",
       "      <td>NaN</td>\n",
       "      <td>NaN</td>\n",
       "    </tr>\n",
       "    <tr>\n",
       "      <th>weld force(bar)</th>\n",
       "      <td>NaN</td>\n",
       "      <td>NaN</td>\n",
       "      <td>1.000000</td>\n",
       "      <td>0.411675</td>\n",
       "      <td>0.133876</td>\n",
       "      <td>-0.005557</td>\n",
       "    </tr>\n",
       "    <tr>\n",
       "      <th>weld current(kA)</th>\n",
       "      <td>NaN</td>\n",
       "      <td>NaN</td>\n",
       "      <td>0.411675</td>\n",
       "      <td>1.000000</td>\n",
       "      <td>0.129596</td>\n",
       "      <td>-0.020933</td>\n",
       "    </tr>\n",
       "    <tr>\n",
       "      <th>weld Voltage(v)</th>\n",
       "      <td>NaN</td>\n",
       "      <td>NaN</td>\n",
       "      <td>0.133876</td>\n",
       "      <td>0.129596</td>\n",
       "      <td>1.000000</td>\n",
       "      <td>0.010169</td>\n",
       "    </tr>\n",
       "    <tr>\n",
       "      <th>weld time(ms)</th>\n",
       "      <td>NaN</td>\n",
       "      <td>NaN</td>\n",
       "      <td>-0.005557</td>\n",
       "      <td>-0.020933</td>\n",
       "      <td>0.010169</td>\n",
       "      <td>1.000000</td>\n",
       "    </tr>\n",
       "  </tbody>\n",
       "</table>\n",
       "</div>"
      ],
      "text/plain": [
       "                  Thickness 1(mm)  Thickness 2(mm)  weld force(bar)  \\\n",
       "Thickness 1(mm)               NaN              NaN              NaN   \n",
       "Thickness 2(mm)               NaN              NaN              NaN   \n",
       "weld force(bar)               NaN              NaN         1.000000   \n",
       "weld current(kA)              NaN              NaN         0.411675   \n",
       "weld Voltage(v)               NaN              NaN         0.133876   \n",
       "weld time(ms)                 NaN              NaN        -0.005557   \n",
       "\n",
       "                  weld current(kA)  weld Voltage(v)  weld time(ms)  \n",
       "Thickness 1(mm)                NaN              NaN            NaN  \n",
       "Thickness 2(mm)                NaN              NaN            NaN  \n",
       "weld force(bar)           0.411675         0.133876      -0.005557  \n",
       "weld current(kA)          1.000000         0.129596      -0.020933  \n",
       "weld Voltage(v)           0.129596         1.000000       0.010169  \n",
       "weld time(ms)            -0.020933         0.010169       1.000000  "
      ]
     },
     "execution_count": 93,
     "metadata": {},
     "output_type": "execute_result"
    }
   ],
   "source": [
    "welding_data[['Thickness 1(mm)', 'Thickness 2(mm)', 'weld force(bar)', 'weld current(kA)', 'weld Voltage(v)', 'weld time(ms)']].corr(method='pearson')"
   ]
  },
  {
   "cell_type": "markdown",
   "metadata": {},
   "source": [
    "# 용접 제품/히스토그램을 통한 변수별 데이터 파악"
   ]
  },
  {
   "cell_type": "code",
   "execution_count": 117,
   "metadata": {},
   "outputs": [
    {
     "data": {
      "image/png": "[encoded data removed]",
      "text/plain": [
       "<Figure size 640x480 with 1 Axes>"
      ]
     },
     "metadata": {},
     "output_type": "display_data"
    }
   ],
   "source": [
    "b = [15, 15, 25, 13, 17, 15, 35]\n",
    "%matplotlib inline\n",
    "\n",
    "thickness_1 = plt.hist(welding_data['Thickness 1(mm)'], bins = b[0], facecolor = (144 /255,171 /255,221 /255), range=(0, 1.2))"
   ]
  },
  {
   "cell_type": "code",
   "execution_count": 118,
   "metadata": {},
   "outputs": [
    {
     "data": {
      "image/png": "[encoded data removed]",
      "text/plain": [
       "<Figure size 640x480 with 1 Axes>"
      ]
     },
     "metadata": {},
     "output_type": "display_data"
    }
   ],
   "source": [
    "thickness_2 = plt.hist(welding_data['Thickness 2(mm)'], bins = b[1], facecolor = (144 /255,171 /255,221 /255), range=(0, 1.2))"
   ]
  },
  {
   "cell_type": "code",
   "execution_count": 119,
   "metadata": {},
   "outputs": [
    {
     "data": {
      "image/png": "[encoded data removed]",
      "text/plain": [
       "<Figure size 640x480 with 1 Axes>"
      ]
     },
     "metadata": {},
     "output_type": "display_data"
    }
   ],
   "source": [
    "weld_force = plt.hist(welding_data['weld force(bar)'], bins = b[2], facecolor = (144 /255,171 /255,221 /255), range=(0, 120))\n",
    "\n"
   ]
  },
  {
   "cell_type": "code",
   "execution_count": 120,
   "metadata": {},
   "outputs": [
    {
     "data": {
      "image/png": "[encoded data removed]",
      "text/plain": [
       "<Figure size 640x480 with 1 Axes>"
      ]
     },
     "metadata": {},
     "output_type": "display_data"
    }
   ],
   "source": [
    "weld_current = plt.hist(welding_data['weld current(kA)'], bins = b[3], facecolor = (144 /255,171 /255,221 /255), range=(0, 160))\n",
    "\n"
   ]
  },
  {
   "cell_type": "code",
   "execution_count": 121,
   "metadata": {},
   "outputs": [
    {
     "data": {
      "image/png": "[encoded data removed]",
      "text/plain": [
       "<Figure size 640x480 with 1 Axes>"
      ]
     },
     "metadata": {},
     "output_type": "display_data"
    }
   ],
   "source": [
    "weld_Voltage = plt.hist(welding_data['weld Voltage(v)'], bins = b[4], facecolor = (144 /255,171 /255,221 /255), range=(0, 200))\n",
    "\n"
   ]
  },
  {
   "cell_type": "code",
   "execution_count": 122,
   "metadata": {},
   "outputs": [
    {
     "data": {
      "image/png": "[encoded data removed]",
      "text/plain": [
       "<Figure size 640x480 with 1 Axes>"
      ]
     },
     "metadata": {},
     "output_type": "display_data"
    }
   ],
   "source": [
    "weld_time = plt.hist(welding_data['weld time(ms)'], bins = b[5], facecolor = (144 /255,171 /255,221 /255), range=(0, 12000))"
   ]
  },
  {
   "cell_type": "markdown",
   "metadata": {},
   "source": [
    "# 데이터 정제(전처리)\n",
    "- 데이터 품질 검사, 데이터 전처리 "
   ]
  },
  {
   "cell_type": "code",
   "execution_count": 4,
   "metadata": {},
   "outputs": [
    {
     "data": {
      "text/html": [
       "<div>\n",
       "<style scoped>\n",
       "    .dataframe tbody tr th:only-of-type {\n",
       "        vertical-align: middle;\n",
       "    }\n",
       "\n",
       "    .dataframe tbody tr th {\n",
       "        vertical-align: top;\n",
       "    }\n",
       "\n",
       "    .dataframe thead th {\n",
       "        text-align: right;\n",
       "    }\n",
       "</style>\n",
       "<table border=\"1\" class=\"dataframe\">\n",
       "  <thead>\n",
       "    <tr style=\"text-align: right;\">\n",
       "      <th></th>\n",
       "      <th>weld force(bar)</th>\n",
       "      <th>weld current(kA)</th>\n",
       "      <th>weld Voltage(v)</th>\n",
       "      <th>weld time(ms)</th>\n",
       "    </tr>\n",
       "    <tr>\n",
       "      <th>idx</th>\n",
       "      <th></th>\n",
       "      <th></th>\n",
       "      <th></th>\n",
       "      <th></th>\n",
       "    </tr>\n",
       "  </thead>\n",
       "  <tbody>\n",
       "    <tr>\n",
       "      <th>1</th>\n",
       "      <td>2.33</td>\n",
       "      <td>14.57</td>\n",
       "      <td>2.701</td>\n",
       "      <td>72.0</td>\n",
       "    </tr>\n",
       "    <tr>\n",
       "      <th>2</th>\n",
       "      <td>2.36</td>\n",
       "      <td>14.57</td>\n",
       "      <td>2.701</td>\n",
       "      <td>72.0</td>\n",
       "    </tr>\n",
       "    <tr>\n",
       "      <th>3</th>\n",
       "      <td>2.37</td>\n",
       "      <td>14.54</td>\n",
       "      <td>2.703</td>\n",
       "      <td>71.0</td>\n",
       "    </tr>\n",
       "    <tr>\n",
       "      <th>4</th>\n",
       "      <td>2.37</td>\n",
       "      <td>14.54</td>\n",
       "      <td>2.703</td>\n",
       "      <td>72.0</td>\n",
       "    </tr>\n",
       "    <tr>\n",
       "      <th>5</th>\n",
       "      <td>2.36</td>\n",
       "      <td>14.56</td>\n",
       "      <td>2.704</td>\n",
       "      <td>72.0</td>\n",
       "    </tr>\n",
       "  </tbody>\n",
       "</table>\n",
       "</div>"
      ],
      "text/plain": [
       "     weld force(bar)  weld current(kA)  weld Voltage(v)  weld time(ms)\n",
       "idx                                                                   \n",
       "1               2.33             14.57            2.701           72.0\n",
       "2               2.36             14.57            2.701           72.0\n",
       "3               2.37             14.54            2.703           71.0\n",
       "4               2.37             14.54            2.703           72.0\n",
       "5               2.36             14.56            2.704           72.0"
      ]
     },
     "execution_count": 4,
     "metadata": {},
     "output_type": "execute_result"
    }
   ],
   "source": [
    "# 불필요한 데이터 제외 가이드\n",
    "# 생산 품목, 작업시간, 소재두께를 제외\n",
    "new_welding_data = welding_data.iloc[:, 5:]\n",
    "new_welding_data.head()"
   ]
  },
  {
   "cell_type": "code",
   "execution_count": 6,
   "metadata": {},
   "outputs": [
    {
     "data": {
      "text/plain": [
       "array([[0.06704545, 0.09090909, 0.59697733, 0.66666667],\n",
       "       [0.07045455, 0.09090909, 0.59697733, 0.66666667],\n",
       "       [0.07159091, 0.03636364, 0.60201511, 0.33333333],\n",
       "       ...,\n",
       "       [0.07159091, 0.14545455, 0.62468514, 0.33333333],\n",
       "       [0.06931818, 0.01818182, 0.62468514, 0.33333333],\n",
       "       [0.06931818, 0.01818182, 0.62468514, 0.33333333]])"
      ]
     },
     "execution_count": 6,
     "metadata": {},
     "output_type": "execute_result"
    }
   ],
   "source": [
    "# MinMaxScaler를 통해 최소 - 최대 정규화\n",
    "scaler = preprocessing.MinMaxScaler()\n",
    "scaler.fit(new_welding_data)\n",
    "scaled_data = scaler.transform(new_welding_data)\n",
    "scaled_data"
   ]
  },
  {
   "cell_type": "markdown",
   "metadata": {},
   "source": [
    "1. sklearn.prerocessing.MinMaxScaler : This estimator scales and translates each feature individually such that it is in the given range on the training set, e.g. between zero and one.\n",
    "2. fit() : Compute the minimum and maximum to be used for later scaling.\n",
    "3. .transform() : Fits transformer to X and y with optional parameters fit_params and returns a transformed version of X."
   ]
  },
  {
   "cell_type": "code",
   "execution_count": 16,
   "metadata": {},
   "outputs": [],
   "source": [
    "scaled_data_df = pd.DataFrame(scaled_data)\n",
    "scaled_data_df.to_csv('my_scaled_data.csv')"
   ]
  },
  {
   "cell_type": "markdown",
   "metadata": {},
   "source": [
    "# 오토인코더 모델 구축 (잡음 제거)\n",
    "1. input_size : 입력의 크기, 숫자로 입력을 받음\n",
    "2. hidden_size : 신경망층의 크기, 리스트 형태로 입력을 받음\n",
    "3. ouput_size : 출력의 크기, 숫자로 입력을 받음\n",
    "4. nn.Linear() : 완전연결망\n",
    "5. nn.RReLU() : Leaky Rectified Linear Unit 활성 함수\n",
    "6. nn.RReLU() : 인공신경망을 담는 컨테이너, 여기에 각 신경망 층들을 더해주어 신경망을 만듦."
   ]
  },
  {
   "cell_type": "code",
   "execution_count": 7,
   "metadata": {},
   "outputs": [],
   "source": [
    "# AutoEncoder 클래스 구현\n",
    "class AutoEncoder(nn.Module):\n",
    "    def __init__(self, input_size, hidden_size, output_size):\n",
    "        super(AutoEncoder, self).__init__()\n",
    "        # initialize\n",
    "        self.input_size = input_size\n",
    "        self.hidden_size = hidden_size\n",
    "        self.output_size = output_size\n",
    "        # 오토인코더 구현\n",
    "        self.AutoEncoder = nn.Sequential(\n",
    "            #인코더 \n",
    "            nn.Linear(input_size, hidden_size[0]),\n",
    "            nn.RReLU(),\n",
    "            nn.Linear(hidden_size[0], output_size),\n",
    "            nn.RReLU(),\n",
    "            # 디코더\n",
    "            nn.Linear(output_size, hidden_size[0]),\n",
    "            nn.RReLU(),\n",
    "            nn.Linear(hidden_size[0], input_size)\n",
    "        )\n",
    "\n",
    "    def forward(self, inputs):\n",
    "        output = self.AutoEncoder(inputs)\n",
    "\n",
    "        return output\n",
    "    "
   ]
  },
  {
   "cell_type": "markdown",
   "metadata": {},
   "source": [
    "1. 오토인코더 모델은 pytorch package를 사용해서 구현\n",
    "2. nn.Module : 모든 신경망 모듈의 기본 클래스.\n",
    "3. nn.Sequential : 오토인코더 안에 들어갈 신경망층 들을 담을 컨테이너를 만들어준다.\n",
    "4. 사용자가 직접 신경망 층을 어떤 식으로 구현할 지 조절 할 수 있음. (현재 인코더 부분에서 완전연결층 2개와 디코더 부분에서 완전연결층 2개로 구성되었음)"
   ]
  },
  {
   "cell_type": "markdown",
   "metadata": {},
   "source": [
    "# 훈련 데이터/ 테스트 데이터 분할"
   ]
  },
  {
   "cell_type": "code",
   "execution_count": 9,
   "metadata": {},
   "outputs": [
    {
     "name": "stdout",
     "output_type": "stream",
     "text": [
      "8470\n",
      "3469\n"
     ]
    }
   ],
   "source": [
    "# 기존의 데이터를 텐서 형태로 변환, 훈련세트와 테스트 세트로 나눔.\n",
    "\n",
    "train_data = torch.Tensor(scaled_data[:8470]) # 처음부터 8469번까지 데이터를 훈련세트로 지정\n",
    "print(len(train_data))\n",
    "\n",
    "test_data = torch.Tensor(scaled_data[8470:]) # 8470번째 데이터부터 끝까지를 테스트세트로 지정\n",
    "print(len(test_data))"
   ]
  },
  {
   "cell_type": "markdown",
   "metadata": {},
   "source": [
    "1. 훈련 데이터\n",
    "- 데이터 개수 : 8470개\n",
    "- 불량품 개수 : 28개\n",
    "\n",
    "2. 테스트 데이터\n",
    "- 데이터 개수 : 3469개\n",
    "- 불량품 개수 : 11개\n",
    "\n",
    "3. 정규화 했던 데이터를 불러와서 Tensor함수를 이용하여 오토인코더에 들어갈 입력 값으로 넣기 위해 텐서로 변환합니다. 텐서로 변환한다는 것은 데이터의 배열로 바꾼다는 뜻과 같습니다. pytorch로 구현한 오토인코더는 텐서 형태로만 입력을 받습니다."
   ]
  },
  {
   "cell_type": "markdown",
   "metadata": {},
   "source": [
    "# 하이퍼파라미터, 손실 함수 및 옵티마이저 정의"
   ]
  },
  {
   "cell_type": "markdown",
   "metadata": {},
   "source": [
    "1. 훈련 데이터"
   ]
  },
  {
   "cell_type": "code",
   "execution_count": 10,
   "metadata": {},
   "outputs": [],
   "source": [
    "# 훈련 하이퍼파라미터\n",
    "epoch = 50\n",
    "batch_size = 64\n",
    "lr = 0.01\n",
    "# 모델 하이퍼파라미터\n",
    "input_size = len(train_data[0])\n",
    "hidden_size = [3]\n",
    "output_size = 2\n",
    "# 손실 함수로 제곱근 오차 사용\n",
    "criterion = nn.MSELoss()\n",
    "# 매개 변수 조정 방식으로 Adam 사용\n",
    "optimizer = torch.optim.Adam\n",
    "# 오토인코더 정의\n",
    "AutoEncoder = AutoEncoder(input_size, hidden_size, output_size)"
   ]
  },
  {
   "cell_type": "markdown",
   "metadata": {},
   "source": [
    "2. 테스트 데이터"
   ]
  },
  {
   "cell_type": "code",
   "execution_count": 33,
   "metadata": {},
   "outputs": [],
   "source": [
    "# 훈련 하이퍼파라미터\n",
    "epoch = 50\n",
    "batch_size = 64\n",
    "lr = 0.01\n",
    "# 모델 하이퍼파라미터\n",
    "input_size = len(test_data[0])\n",
    "hidden_size = [3]\n",
    "output_size = 2\n",
    "# 손실 함수로 제곱근 오차 사용\n",
    "criterion = nn.MSELoss()\n",
    "# 매개 변수 조정 방식으로 Adam 사용\n",
    "optimizer = torch.optim.Adam\n",
    "# 오토인코더 정의\n",
    "AutoEncoder = AutoEncoder(input_size, hidden_size, output_size)"
   ]
  },
  {
   "cell_type": "markdown",
   "metadata": {},
   "source": [
    "1. nn.MSELoss() : 평균 제곱근 오차 계산 함수\n",
    "2. torch.optim.Adam : 매개 변수 조정 방식으로 Adam으로 설정\n",
    "- torch.optim : 다양한 최적화 알고리즘을 구현한 패키지\n",
    "- Adam : 확률론적 최적화 방법, 저차 모멘트의 적응형 추정을 기반으로 확률론적 목적 함수의 1차 기울기 기반 최적화를 위한 알고리즘.\n",
    "3. AutoEncoder(input, hidden, output) : 앞에서 구현한 오토인코더 클래스를 정의\n",
    "4. 하이퍼파라미터 : 모델을 만드는 데에 있어서 모델 자체가 학습할 수 있는 매개변수와는 달리 사람이 직접 설정해 주어야 하는 변수이다.\n",
    "- 훈련 하이퍼파라미터 : 에포크, 배치 사이즈, 학습률\n",
    "- 모델 하이퍼파라미터 : 입력 크기, 신경망의 크기, 출력크기, 손실 함수, 매개 변수 조정 방식\n",
    "- 배치 사이즈 : 학습에 사용되는 데이터를 묶은 단위, 이렇게 한 이유는 한 번에 모든 데이터를 학습하는 것보다 효율적이기 때문이라고 한다. \n",
    "- 에포크 : 전체 데이터를 한 번 학습하는 단위. 예시로 epoch = 10이면 전체 데이터를 10번 학습한다.\n",
    "- 학습률 : 매개 변수를 조정하는 정도를 나타내는 계수.\n",
    "5. Adam optimizer : 매개 변수 조정 방법 중 하나로 자주 쓰이는 기울기를 계산하여 매개변수를 조정해주는 경사 하강법을 업그레이드한 방식. \n",
    "- optimizer : 손실 함수의 값을 줄여나가면서 네트워크를 업데이트하는 것으로 어떤 옵티마지어를 사용하느냐에 따라 성능이 달라짐.\n",
    "6. 손실 함수 : 실제 값과 예측값의 차이를 수치화 하는 함수. 이 차이를 최소화 하는 것이 목표."
   ]
  },
  {
   "cell_type": "markdown",
   "metadata": {},
   "source": [
    "# 오토인코더 학습 함수 정의 및 학습"
   ]
  },
  {
   "cell_type": "code",
   "execution_count": 11,
   "metadata": {},
   "outputs": [],
   "source": [
    "# 학습 함수에 대한 정의\n",
    "def train_net(AutoEncoder, data, criterion, epochs, lr_rate = 0.01):\n",
    "    # Optimizer에 대한 정의\n",
    "    optim = optimizer(AutoEncoder.parameters(), lr = lr_rate)\n",
    "    #배치 학습을 시키기 위한 데이터 변환\n",
    "    data_iter = DataLoader(data, batch_size = batch_size, shuffle=True)\n",
    "    #에포크 학습\n",
    "    for epoch in range(1, epochs + 1):\n",
    "        running_loss = 0.0\n",
    "        for x in data_iter:\n",
    "            # 매개변수 0으로 초기화\n",
    "            optim.zero_grad()\n",
    "            output = AutoEncoder(x)\n",
    "            # 입력값과 출력값 간의 차이인 손실값\n",
    "            loss = criterion(x, output)\n",
    "            # 손실 값을 기준으로 매개변수 조정\n",
    "            loss.backward()\n",
    "            optim.step()\n",
    "            running_loss += loss.item()\n",
    "\n",
    "        # 각 에포크마다 손실 값 표기\n",
    "        print(\"epoch: {}, loss: {:.2f}\".format(epoch, running_loss))\n",
    "    return AutoEncoder"
   ]
  },
  {
   "cell_type": "markdown",
   "metadata": {},
   "source": [
    "1. AutoEncoder.parameters() : 현재 오토인코더에 내재되어 있는 매개변수.\n",
    "2. DataLoader(data, batch_size, shuffle) : Pytorch에서 제공하는 함수로, 데이터를 배치 사이즈로 나누며 shuffle은 훈련과정에서 데이터를 섞는지에 대한 여부\n",
    "3. optim.zero_grad() : 매개변수를 0으로 초기화시켜주는 함수\n",
    "4. loss.backward(), optim.step() : 매개변수를 손실 값을 기준으로 조정해주는 함수.\n",
    "5. running_loss += loss.item() : 데이터를 학습함녀서 발생하는 손실 값을 추적하기 위한 손실 값 기록. running_loss를 통해 현재 손실값이 얼만지 알 수 있음."
   ]
  },
  {
   "cell_type": "markdown",
   "metadata": {},
   "source": [
    "- 오토인코더를 학습 시키기 위한 학습 함수 정의.\n",
    "- epoch의 값만큼 학습을 반복시키기 위해 반복문 사용."
   ]
  },
  {
   "cell_type": "markdown",
   "metadata": {},
   "source": [
    "# 오토인코더 학습 과정"
   ]
  },
  {
   "cell_type": "markdown",
   "metadata": {},
   "source": [
    "1. 훈련 데이터"
   ]
  },
  {
   "cell_type": "code",
   "execution_count": 12,
   "metadata": {},
   "outputs": [
    {
     "name": "stdout",
     "output_type": "stream",
     "text": [
      "epoch: 1, loss: 3.17\n",
      "epoch: 2, loss: 1.25\n",
      "epoch: 3, loss: 0.94\n",
      "epoch: 4, loss: 0.89\n",
      "epoch: 5, loss: 0.57\n",
      "epoch: 6, loss: 0.39\n",
      "epoch: 7, loss: 0.34\n",
      "epoch: 8, loss: 0.31\n",
      "epoch: 9, loss: 0.31\n",
      "epoch: 10, loss: 0.30\n",
      "epoch: 11, loss: 0.29\n",
      "epoch: 12, loss: 0.29\n",
      "epoch: 13, loss: 0.30\n",
      "epoch: 14, loss: 0.30\n",
      "epoch: 15, loss: 0.30\n",
      "epoch: 16, loss: 0.30\n",
      "epoch: 17, loss: 0.29\n",
      "epoch: 18, loss: 0.30\n",
      "epoch: 19, loss: 0.30\n",
      "epoch: 20, loss: 0.29\n",
      "epoch: 21, loss: 0.30\n",
      "epoch: 22, loss: 0.29\n",
      "epoch: 23, loss: 0.29\n",
      "epoch: 24, loss: 0.29\n",
      "epoch: 25, loss: 0.29\n",
      "epoch: 26, loss: 0.29\n",
      "epoch: 27, loss: 0.29\n",
      "epoch: 28, loss: 0.30\n",
      "epoch: 29, loss: 0.30\n",
      "epoch: 30, loss: 0.29\n",
      "epoch: 31, loss: 0.29\n",
      "epoch: 32, loss: 0.29\n",
      "epoch: 33, loss: 0.30\n",
      "epoch: 34, loss: 0.29\n",
      "epoch: 35, loss: 0.29\n",
      "epoch: 36, loss: 0.30\n",
      "epoch: 37, loss: 0.30\n",
      "epoch: 38, loss: 0.29\n",
      "epoch: 39, loss: 0.29\n",
      "epoch: 40, loss: 0.29\n",
      "epoch: 41, loss: 0.29\n",
      "epoch: 42, loss: 0.30\n",
      "epoch: 43, loss: 0.29\n",
      "epoch: 44, loss: 0.29\n",
      "epoch: 45, loss: 0.30\n",
      "epoch: 46, loss: 0.29\n",
      "epoch: 47, loss: 0.30\n",
      "epoch: 48, loss: 0.29\n",
      "epoch: 49, loss: 0.30\n",
      "epoch: 50, loss: 0.30\n"
     ]
    }
   ],
   "source": [
    "# 학습 함수를 이용한 오토인코더 학습\n",
    "AutoEncoder = train_net(AutoEncoder, train_data, criterion, epoch, lr)"
   ]
  },
  {
   "cell_type": "markdown",
   "metadata": {},
   "source": [
    "2. 테스트 데이터"
   ]
  },
  {
   "cell_type": "code",
   "execution_count": 35,
   "metadata": {},
   "outputs": [
    {
     "name": "stdout",
     "output_type": "stream",
     "text": [
      "epoch: 1, loss: 11.04\n",
      "epoch: 2, loss: 1.55\n",
      "epoch: 3, loss: 1.45\n",
      "epoch: 4, loss: 1.42\n",
      "epoch: 5, loss: 1.38\n",
      "epoch: 6, loss: 1.27\n",
      "epoch: 7, loss: 1.13\n",
      "epoch: 8, loss: 1.02\n",
      "epoch: 9, loss: 1.00\n",
      "epoch: 10, loss: 0.97\n",
      "epoch: 11, loss: 0.93\n",
      "epoch: 12, loss: 0.86\n",
      "epoch: 13, loss: 0.62\n",
      "epoch: 14, loss: 0.45\n",
      "epoch: 15, loss: 0.41\n",
      "epoch: 16, loss: 0.39\n",
      "epoch: 17, loss: 0.37\n",
      "epoch: 18, loss: 0.36\n",
      "epoch: 19, loss: 0.34\n",
      "epoch: 20, loss: 0.32\n",
      "epoch: 21, loss: 0.31\n",
      "epoch: 22, loss: 0.29\n",
      "epoch: 23, loss: 0.30\n",
      "epoch: 24, loss: 0.28\n",
      "epoch: 25, loss: 0.28\n",
      "epoch: 26, loss: 0.27\n",
      "epoch: 27, loss: 0.28\n",
      "epoch: 28, loss: 0.27\n",
      "epoch: 29, loss: 0.26\n",
      "epoch: 30, loss: 0.26\n",
      "epoch: 31, loss: 0.27\n",
      "epoch: 32, loss: 0.25\n",
      "epoch: 33, loss: 0.25\n",
      "epoch: 34, loss: 0.27\n",
      "epoch: 35, loss: 0.25\n",
      "epoch: 36, loss: 0.25\n",
      "epoch: 37, loss: 0.26\n",
      "epoch: 38, loss: 0.26\n",
      "epoch: 39, loss: 0.25\n",
      "epoch: 40, loss: 0.26\n",
      "epoch: 41, loss: 0.25\n",
      "epoch: 42, loss: 0.24\n",
      "epoch: 43, loss: 0.25\n",
      "epoch: 44, loss: 0.25\n",
      "epoch: 45, loss: 0.25\n",
      "epoch: 46, loss: 0.24\n",
      "epoch: 47, loss: 0.25\n",
      "epoch: 48, loss: 0.25\n",
      "epoch: 49, loss: 0.25\n",
      "epoch: 50, loss: 0.24\n"
     ]
    }
   ],
   "source": [
    "# 학습 함수를 이용한 오토인코더 학습\n",
    "AutoEncoder = train_net(AutoEncoder, test_data, criterion, epoch, lr)"
   ]
  },
  {
   "cell_type": "markdown",
   "metadata": {},
   "source": [
    "- 앞에서 정의해준 하이퍼파라미터와 학습 함수를 이용하여 오토인코더를 학습시켜준다.\n",
    "- 오토인코더를 학습하며 에포크마다 손실 값을 출력해준다."
   ]
  },
  {
   "cell_type": "markdown",
   "metadata": {},
   "source": [
    "# 임계값 정의"
   ]
  },
  {
   "cell_type": "markdown",
   "metadata": {},
   "source": [
    "1. 훈련 데이터"
   ]
  },
  {
   "cell_type": "code",
   "execution_count": 13,
   "metadata": {},
   "outputs": [
    {
     "name": "stdout",
     "output_type": "stream",
     "text": [
      "Threshold :  0.07836216916231753\n"
     ]
    }
   ],
   "source": [
    "# 훈련세트의 손실 값 이용한 임계값 정의\n",
    "train_loss_chart = []\n",
    "for data in train_data:\n",
    "    output = AutoEncoder(data)\n",
    "    loss = criterion(output, data)\n",
    "    train_loss_chart.append(loss.item())\n",
    "\n",
    "threshold = np.mean(train_loss_chart) + np.std(train_loss_chart)*8\n",
    "print(\"Threshold : \", threshold)"
   ]
  },
  {
   "cell_type": "markdown",
   "metadata": {},
   "source": [
    "2. 테스트 데이터"
   ]
  },
  {
   "cell_type": "code",
   "execution_count": 36,
   "metadata": {},
   "outputs": [
    {
     "name": "stdout",
     "output_type": "stream",
     "text": [
      "Threshold :  0.10675619971291087\n"
     ]
    }
   ],
   "source": [
    "# 테스트세트의 손실 값 이용한 임계값 정의\n",
    "test_loss_chart = []\n",
    "for data in test_data:\n",
    "    output = AutoEncoder(data)\n",
    "    loss = criterion(output, data)\n",
    "    test_loss_chart.append(loss.item())\n",
    "\n",
    "threshold = np.mean(test_loss_chart) + np.std(test_loss_chart)*8\n",
    "print(\"Threshold : \", threshold)"
   ]
  },
  {
   "cell_type": "markdown",
   "metadata": {},
   "source": [
    "- 임계값 : 이상치 탐지를 위해 어떤 데이터를 이상치로 판별하는 기준이 되는 값. 판별 기준은 손실 값."
   ]
  },
  {
   "cell_type": "markdown",
   "metadata": {},
   "source": [
    "# 결과 분석"
   ]
  },
  {
   "cell_type": "code",
   "execution_count": 18,
   "metadata": {},
   "outputs": [
    {
     "data": {
      "text/plain": [
       "39"
      ]
     },
     "execution_count": 18,
     "metadata": {},
     "output_type": "execute_result"
    }
   ],
   "source": [
    "# 훈련 세트의 손실값 이용한 임계값 정의\n",
    "train_test_loss_chart = []\n",
    "for data in train_data:\n",
    "    output = AutoEncoder(data)\n",
    "    loss = criterion(output, data)\n",
    "    train_test_loss_chart.append(loss.item())\n",
    "\n",
    "outlier = list(train_test_loss_chart >= threshold)\n",
    "outlier.count(True)"
   ]
  },
  {
   "cell_type": "code",
   "execution_count": 21,
   "metadata": {},
   "outputs": [
    {
     "data": {
      "text/plain": [
       "13"
      ]
     },
     "execution_count": 21,
     "metadata": {},
     "output_type": "execute_result"
    }
   ],
   "source": [
    "# 테스트 세트의 손실값 이용한 임계값 정의\n",
    "test_set_loss_chart = []\n",
    "for data in test_data:\n",
    "    output = AutoEncoder(data)\n",
    "    loss = criterion(output, data)\n",
    "    test_set_loss_chart.append(loss.item())\n",
    "\n",
    "outlier = list(test_set_loss_chart >= threshold)\n",
    "outlier.count(True)"
   ]
  },
  {
   "cell_type": "markdown",
   "metadata": {},
   "source": [
    "- 임계값과 훈련한 오토인코더로 테스트 데이터에 적용한다.\n",
    "- 반복문을 이용하여 데이터를 하나씩 오토인코더에 입력시키며 손실 값을 측정한다.\n",
    "- train_test_loss_char, test_set_loss_char 리스트에 손실 값들을 기록.\n",
    "- outlier.count : 불량품이 몇 개인지 출력."
   ]
  },
  {
   "cell_type": "markdown",
   "metadata": {},
   "source": [
    "# 결과\n",
    "- 훈련 데이터에서는 8470개의 제품 중에 28개가 불량이었음. 오토인코더의 결과에는 39개의 제품이 불량품이라고 판별했음(11개 차이가 난다).\n",
    "- 현재 테스트 데이터에서는 3469개의 제품 중에 11개의 제품이 불량인데 오토인코더의 결과는 13개의 제품이 불량품이라고 판별했음(2개 차이가 난다). \n",
    "- 위는 일별 불량품 개수 예측에 대한 결과이고, 정량적 개별 제품에 대한 불량품 판별의 성능을 보기 위해서는 목표치가 주어진 데이터가 있어야 한다. "
   ]
  }
 ],
 "metadata": {
  "kernelspec": {
   "display_name": "pyTorch",
   "language": "python",
   "name": "python3"
  },
  "language_info": {
   "codemirror_mode": {
    "name": "ipython",
    "version": 3
   },
   "file_extension": ".py",
   "mimetype": "text/x-python",
   "name": "python",
   "nbconvert_exporter": "python",
   "pygments_lexer": "ipython3",
   "version": "3.10.13"
  }
 },
 "nbformat": 4,
 "nbformat_minor": 2
}
